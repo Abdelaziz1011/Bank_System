{
 "cells": [
  {
   "cell_type": "markdown",
   "id": "a719d167",
   "metadata": {},
   "source": [
    "## BANK SYSTEM\n"
   ]
  },
  {
   "cell_type": "code",
   "execution_count": 1,
   "id": "9e740943",
   "metadata": {},
   "outputs": [],
   "source": [
    "# Define a class for the Central Bank Digital Currency (CBDC)\n",
    "class CBDC:\n",
    "    def __init__(self, bank_id, customer_id, amount):\n",
    "        self.bank_id = bank_id\n",
    "        self.customer_id = customer_id\n",
    "        self.amount = amount\n",
    "\n",
    "    def transfer(self, recipient_id, amount):\n",
    "        # Implement the logic for transferring funds between accounts\n",
    "        pass\n",
    "\n",
    "    def check_balance(self):\n",
    "        # Implement the logic for checking the account balance\n",
    "        pass\n",
    "\n",
    "# Define a class for the bank\n",
    "class Bank:\n",
    "    def __init__(self, bank_id):\n",
    "        self.bank_id = bank_id\n",
    "        self.customers = {}  # Dictionary to store customer information\n",
    "\n",
    "    def create_account(self, customer_id, initial_amount):\n",
    "        # Implement the logic for creating a new account\n",
    "        pass\n",
    "\n",
    "    def get_account_balance(self, customer_id):\n",
    "        # Implement the logic for retrieving the account balance\n",
    "        pass\n",
    "\n",
    "# Define a class for the customer\n",
    "class Customer:\n",
    "    def __init__(self, customer_id):\n",
    "        self.customer_id = customer_id\n",
    "        self.accounts = {}  # Dictionary to store account information\n",
    "\n",
    "    def create_account(self, bank_id, initial_amount):\n",
    "        # Implement the logic for creating a new account\n",
    "        pass\n",
    "\n",
    "    def get_account_balance(self, bank_id):\n",
    "        # Implement the logic for retrieving the account balance\n",
    "        pass"
   ]
  },
  {
   "cell_type": "code",
   "execution_count": 2,
   "id": "9c38257b",
   "metadata": {},
   "outputs": [],
   "source": [
    "class User:\n",
    "    def __init__(self, name, age, gender, balance=0):\n",
    "        \n",
    "        self.name = name\n",
    "        self.age = age\n",
    "        self.gender = gender\n",
    "        self.balance = balance\n",
    "\n",
    "    def display_user_data(self):\n",
    "       \n",
    "        print(f\"Name: {self.name}\")\n",
    "        print(f\"Age: {self.age}\")\n",
    "        print(f\"Gender: {self.gender}\")\n",
    "        print(f\"Balance: {self.balance}\")"
   ]
  },
  {
   "cell_type": "code",
   "execution_count": 3,
   "id": "1f40f57b",
   "metadata": {},
   "outputs": [
    {
     "name": "stdout",
     "output_type": "stream",
     "text": [
      "Name: Abdelaziz Mohamed\n",
      "Age: 25\n",
      "Gender: Male\n",
      "Balance: 100000\n"
     ]
    }
   ],
   "source": [
    "user1 = User(\"Abdelaziz Mohamed\", 25, \"Male\", 100000)\n",
    "user1.display_user_data()"
   ]
  },
  {
   "cell_type": "code",
   "execution_count": 4,
   "id": "1b13bb72",
   "metadata": {},
   "outputs": [],
   "source": [
    "class Bank(User):\n",
    "    def deposit(self, amount):\n",
    "        \n",
    "        self.balance += amount\n",
    "        print(f\"Deposit successful. New balance: {self.balance}\")\n",
    "\n",
    "    def withdraw(self, amount):\n",
    "        \n",
    "        if amount > self.balance:\n",
    "            raise ValueError(\"Insufficient funds\")\n",
    "        self.balance -= amount\n",
    "        print(f\"Withdrawal successful. New balance: {self.balance}\")\n",
    "\n",
    "    def view_balance(self):\n",
    "        \n",
    "        print(f\"Current balance: {self.balance}\")"
   ]
  },
  {
   "cell_type": "code",
   "execution_count": 5,
   "id": "e4a4f1e7",
   "metadata": {},
   "outputs": [
    {
     "name": "stdout",
     "output_type": "stream",
     "text": [
      "Current balance: 100000\n",
      "Deposit successful. New balance: 100500\n",
      "Withdrawal successful. New balance: 100300\n",
      "Current balance: 100300\n"
     ]
    }
   ],
   "source": [
    "user1 = Bank(\"Abdelaziz Mohamed\", 25, \"Male\", 100000)\n",
    "user1.view_balance()\n",
    "user1.deposit(500)\n",
    "user1.withdraw(200)\n",
    "user1.view_balance()"
   ]
  },
  {
   "cell_type": "code",
   "execution_count": 6,
   "id": "7c6a546d",
   "metadata": {},
   "outputs": [],
   "source": [
    "class CIB(Bank):\n",
    "    def loan_application(self, amount, duration):\n",
    "        \n",
    "        max_loan_amount = 1000000\n",
    "        if amount > max_loan_amount:\n",
    "            raise ValueError(f\"Loan amount exceeds maximum limit of {max_loan_amount}\")\n",
    "        \n",
    "        print(f\"Loan application for {amount} over {duration} months has been submitted.\")\n",
    "\n",
    "class QNB(Bank):\n",
    "    def loan_application(self, amount, duration):\n",
    "        \n",
    "        max_loan_amount = 2000000\n",
    "        if amount > max_loan_amount:\n",
    "            raise ValueError(f\"Loan amount exceeds maximum limit of {max_loan_amount}\")\n",
    "        \n",
    "        print(f\"Loan application for {amount} over {duration} months has been submitted.\")"
   ]
  },
  {
   "cell_type": "code",
   "execution_count": 7,
   "id": "16e39a46",
   "metadata": {},
   "outputs": [
    {
     "name": "stdout",
     "output_type": "stream",
     "text": [
      "Loan application for 500000 over 24 months has been submitted.\n",
      "Loan application for 1500000 over 36 months has been submitted.\n"
     ]
    }
   ],
   "source": [
    "cib_user = CIB(\"Abdelaziz Mohamed\", 25, \"Male\", 100000)\n",
    "cib_user.loan_application(500000, 24)\n",
    "\n",
    "qnb_user = QNB(\"Mohamed Abdelaziz\", 55, \"Female\", 2000)\n",
    "qnb_user.loan_application(1500000, 36)"
   ]
  },
  {
   "cell_type": "code",
   "execution_count": null,
   "id": "b1e5777e",
   "metadata": {},
   "outputs": [],
   "source": []
  },
  {
   "cell_type": "code",
   "execution_count": null,
   "id": "52bf1c04",
   "metadata": {},
   "outputs": [],
   "source": []
  },
  {
   "cell_type": "code",
   "execution_count": null,
   "id": "65338be2",
   "metadata": {},
   "outputs": [],
   "source": []
  },
  {
   "cell_type": "code",
   "execution_count": null,
   "id": "abdd757e",
   "metadata": {},
   "outputs": [],
   "source": []
  },
  {
   "cell_type": "code",
   "execution_count": 8,
   "id": "be90ff88",
   "metadata": {},
   "outputs": [],
   "source": [
    "class User:\n",
    "    def __init__(self, name, age, gender, balance=0):\n",
    "        self.name = name\n",
    "        self.age = age\n",
    "        self.gender = gender\n",
    "        self.balance = balance\n",
    "\n",
    "    def display_user_data(self):\n",
    "        print(f\"Name: {self.name}\")\n",
    "        print(f\"Age: {self.age}\")\n",
    "        print(f\"Gender: {self.gender}\")\n",
    "        print(f\"Balance: {self.balance}\")\n",
    "\n",
    "class Bank(User):\n",
    "    def deposit(self, amount):\n",
    "        self.balance += amount\n",
    "        print(f\"Deposit successful. New balance: {self.balance}\")\n",
    "\n",
    "    def withdraw(self, amount):\n",
    "        if amount > self.balance:\n",
    "            raise ValueError(\"Insufficient funds\")\n",
    "        self.balance -= amount\n",
    "        print(f\"Withdrawal successful. New balance: {self.balance}\")\n",
    "\n",
    "    def view_balance(self):\n",
    "        print(f\"Current balance: {self.balance}\")\n",
    "\n",
    "class CIB(Bank):\n",
    "    def loan_application(self, amount, duration):\n",
    "        max_loan_amount = 1000000\n",
    "        if amount > max_loan_amount:\n",
    "            raise ValueError(f\"Loan amount exceeds maximum limit of {max_loan_amount}\")\n",
    "        print(f\"Loan application for {amount} over {duration} months has been submitted.\")\n",
    "\n",
    "class QNB(Bank):\n",
    "    def loan_application(self, amount, duration):\n",
    "        max_loan_amount = 2000000\n",
    "        if amount > max_loan_amount:\n",
    "            raise ValueError(f\"Loan amount exceeds maximum limit of {max_loan_amount}\")\n",
    "        print(f\"Loan application for {amount} over {duration} months has been submitted.\")"
   ]
  },
  {
   "cell_type": "code",
   "execution_count": 9,
   "id": "3913c699",
   "metadata": {},
   "outputs": [
    {
     "name": "stdout",
     "output_type": "stream",
     "text": [
      "Name: john\n",
      "Age: 30\n",
      "Gender: Male\n",
      "Balance: 1000\n",
      "Current balance: 1000\n",
      "Deposit successful. New balance: 1500\n",
      "Withdrawal successful. New balance: 1300\n",
      "Current balance: 1300\n",
      "Loan application for 100000 over 24 months has been submitted.\n",
      "Loan application for 1500000 over 36 months has been submitted.\n"
     ]
    }
   ],
   "source": [
    "user = User(\"john\", 30, \"Male\", 1000)\n",
    "user.display_user_data()\n",
    "\n",
    "bank_account = Bank(\"John \", 30, \"Male\", 1000)\n",
    "bank_account.view_balance()\n",
    "bank_account.deposit(500)\n",
    "bank_account.withdraw(200)\n",
    "bank_account.view_balance()\n",
    "\n",
    "cib_account = CIB(\"John Doe\", 30, \"Male\", 1000)\n",
    "cib_account.loan_application(100000, 24)\n",
    "\n",
    "qnb_account = QNB(\"DiDi\", 28, \"Female\", 2000)\n",
    "qnb_account.loan_application(1500000, 36)"
   ]
  },
  {
   "cell_type": "code",
   "execution_count": null,
   "id": "d0e7b81a",
   "metadata": {},
   "outputs": [],
   "source": []
  }
 ],
 "metadata": {
  "kernelspec": {
   "display_name": "Python 3 (ipykernel)",
   "language": "python",
   "name": "python3"
  },
  "language_info": {
   "codemirror_mode": {
    "name": "ipython",
    "version": 3
   },
   "file_extension": ".py",
   "mimetype": "text/x-python",
   "name": "python",
   "nbconvert_exporter": "python",
   "pygments_lexer": "ipython3",
   "version": "3.11.5"
  }
 },
 "nbformat": 4,
 "nbformat_minor": 5
}
